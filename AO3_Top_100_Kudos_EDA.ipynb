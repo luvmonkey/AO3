{
 "cells": [
  {
   "cell_type": "markdown",
   "metadata": {},
   "source": [
    "# AO3 Top 100 Works by Kudos - Exploratory Data Analysis\n",
    "\n",
    "Note: This data was collected personally from Archive of Our Own in November 3, 2022 using a webscraper and has been cleaned for ease of analysis. It is possible for the top 100 works on the website to differ today from what it was then."
   ]
  },
  {
   "cell_type": "code",
   "execution_count": 45,
   "metadata": {},
   "outputs": [],
   "source": [
    "#Import Libraries\n",
    "import pandas as pd\n",
    "import matplotlib.pyplot as plt"
   ]
  },
  {
   "cell_type": "markdown",
   "metadata": {},
   "source": [
    "While the initial csv, top_100_kudos_clean contains all the necessary data for this project, the boolean dataframes were created to make it easier to analyze the data in many of the columns, which is in the format of a list. Work_id is the primary key connecting these dataframes."
   ]
  },
  {
   "cell_type": "code",
   "execution_count": 46,
   "metadata": {},
   "outputs": [],
   "source": [
    "# Import Data\n",
    "top_100_kudos = pd.read_csv('top_100_kudos_clean.csv')\n",
    "characters_bool = pd.read_csv('top_100_kudos_characters_bool.csv')\n",
    "fandoms_bool = pd.read_csv('top_100_kudos_fandoms_bool.csv')\n",
    "freeforms_bool = pd.read_csv('top_100_kudos_freeforms_bool.csv')\n",
    "relationships_bool = pd.read_csv('top_100_kudos_relationships_bool.csv')\n",
    "slash_categories_bool = pd.read_csv('top_100_kudos_slash_categories_bool.csv')\n",
    "warnings_bool = pd.read_csv('top_100_kudos_warnings_bool.csv')"
   ]
  },
  {
   "cell_type": "markdown",
   "metadata": {},
   "source": [
    "### Initial Exploration\n",
    "The following code helps to familiarize oneself with the data. "
   ]
  },
  {
   "cell_type": "code",
   "execution_count": 47,
   "metadata": {},
   "outputs": [
    {
     "name": "stdout",
     "output_type": "stream",
     "text": [
      "RangeIndex(start=0, stop=100, step=1)\n",
      "Index(['Unnamed: 0', 'work_id', 'user_id', 'title', 'username', 'fandoms',\n",
      "       'rating', 'warnings', 'slash_categories', 'status', 'date_updated',\n",
      "       'relationships', 'characters', 'freeforms', 'summary', 'language',\n",
      "       'words', 'chapters', 'comments', 'kudos', 'bookmarks', 'hits',\n",
      "       'completed', 'chapters_written', 'chapters_total'],\n",
      "      dtype='object')\n"
     ]
    }
   ],
   "source": [
    "# Viewing the Index and Columns of the main dataframe\n",
    "print(top_100_kudos.index)\n",
    "print(top_100_kudos.columns)\n"
   ]
  },
  {
   "cell_type": "code",
   "execution_count": 48,
   "metadata": {},
   "outputs": [
    {
     "name": "stdout",
     "output_type": "stream",
     "text": [
      "characters_bool\n",
      "RangeIndex(start=0, stop=100, step=1)\n",
      "Index(['Unnamed: 0', 'Groot (Marvel)', 'Remus Lupin', 'Sirius Black',\n",
      "       'James Potter', 'Lily Evans Potter', 'Peter Pettigrew', 'Severus Snape',\n",
      "       'Minerva McGonagall', 'Bellatrix Black Lestrange',\n",
      "       ...\n",
      "       'Iwaizumi Hajime', 'Oikawa Tooru', 'Sawamura Daichi', 'Sugawara Koushi',\n",
      "       'Kindaichi Yuutarou', 'Azumane Asahi', 'Nishinoya Yuu', 'Kunimi Akira',\n",
      "       'Irihata Nobuteru', 'Baron Zemo'],\n",
      "      dtype='object', length=395)\n",
      "fandoms_bool\n",
      "RangeIndex(start=0, stop=100, step=1)\n",
      "Index(['Unnamed: 0', 'Guardians of the Galaxy - All Media Types', 'Marvel',\n",
      "       'Marvel (Movies)', 'Marvel (Comics)',\n",
      "       'Guardians of the Galaxy (Comics)', 'Harry Potter - J. K. Rowling',\n",
      "       'Dream SMP', '僕のヒーローアカデミア | Boku no Hero Academia | My Hero Academia',\n",
      "       'Haikyuu!!', 'Star Wars - All Media Types',\n",
      "       'Star Wars Episode VII: The Force Awakens (2015)',\n",
      "       'Minecraft (Video Game)', 'Video Blogging RPF', 'Teen Wolf (TV)',\n",
      "       '방탄소년단 | Bangtan Boys | BTS', 'Avatar: The Last Airbender',\n",
      "       'Voltron: Legendary Defender', 'Sherlock (TV)',\n",
      "       'Sherlock Holmes & Related Fandoms',\n",
      "       'She-Ra and the Princesses of Power (2018)', 'Supernatural',\n",
      "       'Spider-Man - All Media Types', 'Spider-Man: Homecoming (2017)',\n",
      "       'The Avengers (Marvel Movies)', 'Marvel Cinematic Universe',\n",
      "       'Stranger Things (TV 2016)', 'Captain America (Movies)', 'Merlin (TV)',\n",
      "       'Hannibal (TV)', 'SK8 the Infinity (Anime)', 'Deadpool (Comics)',\n",
      "       '魔道祖师 - 墨香铜臭 | Módào Zǔshī - Mòxiāng Tóngxiù', 'Good Omens (TV)',\n",
      "       'Yuri!!! on Ice (Anime)', 'Star Wars Sequel Trilogy',\n",
      "       'The Avengers (2012)', 'Iron Man (Movies)', 'Miraculous Ladybug',\n",
      "       'Naruto', 'Daredevil (TV)', 'Daredevil (Comics)',\n",
      "       '재혼 황후 | Remarried Empress (Visual Novel)',\n",
      "       '재혼 황후 - 알파타르트 | Remarried Empress - Alpha Tart', 'The Witcher (TV)',\n",
      "       'Wiedźmin | The Witcher - All Media Types'],\n",
      "      dtype='object')\n",
      "freeforms_bool\n",
      "RangeIndex(start=0, stop=100, step=1)\n",
      "Index(['Unnamed: 0', 'No Freeform Tags', 'Marauders' Era', 'Marauders',\n",
      "       'Marauders Friendship', 'wolfstar', 'Get Together', 'Slow Burn',\n",
      "       'so slow', 'it's slow',\n",
      "       ...\n",
      "       'canon amount of angst', 'amateur (but effective) equine therapy',\n",
      "       'Civil War Fix-It', 'bucky is a good dad', 'Peter is a good kid',\n",
      "       'Steve is a good boyfriend', 'Tony is a good friend',\n",
      "       'and also kind of a sugar daddy', 'without benefits',\n",
      "       'Peter is majorly stanning everybody in this fic and it's cute'],\n",
      "      dtype='object', length=1031)\n",
      "relationships_bool\n",
      "RangeIndex(start=0, stop=100, step=1)\n",
      "Index(['Unnamed: 0', 'No Relationship Tags', 'Sirius Black/Remus Lupin',\n",
      "       'Sirius Black & Remus Lupin', 'James Potter/Lily Evans Potter',\n",
      "       'Wilbur Soot & Technoblade',\n",
      "       'Technoblade & Phil Watson (Video Blogging RPF)',\n",
      "       'Technoblade & TommyInnit (Video Blogging RPF)',\n",
      "       'Wilbur Soot & Technoblade & TommyInnit & Phil Watson',\n",
      "       'Wilbur Soot & TommyInnit',\n",
      "       ...\n",
      "       'Kim Seokjin | Jin/Min Yoongi | Suga', 'Iwaizumi Hajime/Oikawa Tooru',\n",
      "       'Sawamura Daichi/Sugawara Koushi', 'Kozume Kenma/Kuroo Tetsurou',\n",
      "       'Azumane Asahi/Nishinoya Yuu',\n",
      "       'Geralt z Rivii | Geralt of Rivia/Jaskier | Dandelion',\n",
      "       'James \"Bucky\" Barnes & Peter Parker', 'Peter Parker & Tony Stark',\n",
      "       'Peter Parker & Steve Rogers', 'James \"Bucky\" Barnes & Tony Stark'],\n",
      "      dtype='object', length=181)\n",
      "slash_categories_bool\n",
      "RangeIndex(start=0, stop=100, step=1)\n",
      "Index(['Unnamed: 0', 'No category', 'M/M', 'Gen', 'F/M', 'Multi', 'F/F',\n",
      "       'Other'],\n",
      "      dtype='object')\n",
      "warnings_bool\n",
      "RangeIndex(start=0, stop=100, step=1)\n",
      "Index(['Unnamed: 0', 'Choose Not To Use Archive Warnings',\n",
      "       'No Archive Warnings Apply', 'Major Character Death',\n",
      "       'Graphic Depictions Of Violence', 'Rape/Non-Con', 'Underage'],\n",
      "      dtype='object')\n"
     ]
    }
   ],
   "source": [
    "# Viewing the Index and Columns of the boolean tables\n",
    "print('characters_bool')\n",
    "print(characters_bool.index)\n",
    "print(characters_bool.columns)\n",
    "\n",
    "print('fandoms_bool')\n",
    "print(fandoms_bool.index)\n",
    "print(fandoms_bool.columns)\n",
    "\n",
    "print('freeforms_bool')\n",
    "print(freeforms_bool.index)\n",
    "print(freeforms_bool.columns)\n",
    "\n",
    "print('relationships_bool')\n",
    "print(relationships_bool.index)\n",
    "print(relationships_bool.columns)\n",
    "\n",
    "print('slash_categories_bool')\n",
    "print(slash_categories_bool.index)\n",
    "print(slash_categories_bool.columns)\n",
    "\n",
    "print('warnings_bool')\n",
    "print(warnings_bool.index)\n",
    "print(warnings_bool.columns)\n"
   ]
  },
  {
   "cell_type": "markdown",
   "metadata": {},
   "source": [
    "It seems that the work_id is not the index. To fix that, I will reset the index of all the dataframes. This will keep a consistent primary key across all the dataframes, easing the work."
   ]
  },
  {
   "cell_type": "code",
   "execution_count": 49,
   "metadata": {},
   "outputs": [],
   "source": [
    "# Making sure the 'Unnamed: 0' column in the boolean dataframes is indeed the work_id\n",
    "# print(characters_bool['Unnamed: 0'].head())\n",
    "# print(fandoms_bool['Unnamed: 0'].head())\n",
    "# print(freeforms_bool['Unnamed: 0'].head())\n",
    "# print(relationships_bool['Unnamed: 0'].head())\n",
    "# print(slash_categories_bool['Unnamed: 0'].head())\n",
    "# print(warnings_bool['Unnamed: 0'].head())\n",
    "\n",
    "# Reseting the indices.\n",
    "top_100_kudos.set_index('work_id', inplace=True)\n",
    "characters_bool.set_index('Unnamed: 0', inplace=True)\n",
    "fandoms_bool.set_index('Unnamed: 0', inplace=True)\n",
    "freeforms_bool.set_index('Unnamed: 0', inplace=True)\n",
    "relationships_bool.set_index('Unnamed: 0', inplace=True)\n",
    "slash_categories_bool.set_index('Unnamed: 0', inplace=True)\n",
    "warnings_bool.set_index('Unnamed: 0', inplace=True)\n"
   ]
  },
  {
   "cell_type": "markdown",
   "metadata": {},
   "source": [
    "Let's take a look at some of the statistics associated with the data!"
   ]
  },
  {
   "cell_type": "code",
   "execution_count": 54,
   "metadata": {},
   "outputs": [
    {
     "name": "stdout",
     "output_type": "stream",
     "text": [
      "             rank          words      comments          kudos     bookmarks  \\\n",
      "count  100.000000     100.000000    100.000000     100.000000    100.000000   \n",
      "mean    49.500000  109820.640000   5029.820000   37008.180000   8147.160000   \n",
      "std     29.011492  117619.939227   5649.419417   16226.197257   3460.596062   \n",
      "min      0.000000      12.000000    232.000000   27173.000000   2082.000000   \n",
      "25%     24.750000   12778.500000    937.500000   28841.750000   5640.500000   \n",
      "50%     49.500000   74024.000000   3156.000000   31329.500000   8035.500000   \n",
      "75%     74.250000  176300.750000   7059.000000   38771.000000   9679.250000   \n",
      "max     99.000000  526969.000000  26966.000000  127483.000000  24991.000000   \n",
      "\n",
      "               hits  chapters_written  chapters_total  \n",
      "count  1.000000e+02        100.000000       90.000000  \n",
      "mean   8.475519e+05         20.580000       19.555556  \n",
      "std    9.350462e+05         28.956666       30.169972  \n",
      "min    1.810710e+05          1.000000        1.000000  \n",
      "25%    3.900278e+05          1.000000        1.000000  \n",
      "50%    6.497420e+05         11.500000        8.500000  \n",
      "75%    9.359310e+05         27.250000       24.750000  \n",
      "max    8.338265e+06        188.000000      188.000000  \n"
     ]
    }
   ],
   "source": [
    "# The old index column doubles as a rank on the basis of kudos so it gets renamed\n",
    "top_100_kudos = top_100_kudos.rename(columns={'Unnamed: 0': 'rank'})\n",
    "\n",
    "# The numerical data\n",
    "print(top_100_kudos.describe())"
   ]
  },
  {
   "cell_type": "code",
   "execution_count": 61,
   "metadata": {},
   "outputs": [
    {
     "name": "stdout",
     "output_type": "stream",
     "text": [
      "Draco Malfoy                  22\n",
      "Harry Potter                  20\n",
      "Hermione Granger              17\n",
      "Ron Weasley                   14\n",
      "Midoriya Izuku                13\n",
      "Derek Hale                    12\n",
      "Stiles Stilinski              12\n",
      "Todoroki Shouto               12\n",
      "Bakugou Katsuki               11\n",
      "Aizawa Shouta | Eraserhead    10\n",
      "dtype: int64\n",
      "Harry Potter - J. K. Rowling                              28\n",
      "僕のヒーローアカデミア | Boku no Hero Academia | My Hero Academia    15\n",
      "Teen Wolf (TV)                                            12\n",
      "방탄소년단 | Bangtan Boys | BTS                                 6\n",
      "Dream SMP                                                  6\n",
      "Marvel Cinematic Universe                                  5\n",
      "Captain America (Movies)                                   4\n",
      "Spider-Man - All Media Types                               4\n",
      "Minecraft (Video Game)                                     4\n",
      "Haikyuu!!                                                  3\n",
      "dtype: int64\n",
      "Hurt/Comfort                             18\n",
      "Fluff                                    17\n",
      "Slow Burn                                16\n",
      "Angst                                    13\n",
      "Humor                                    13\n",
      "Slow Build                               10\n",
      "Alternate Universe                        9\n",
      "Romance                                   9\n",
      "Hogwarts Eighth Year                      9\n",
      "Alternate Universe - Canon Divergence     9\n",
      "dtype: int64\n",
      "Draco Malfoy/Harry Potter                               18\n",
      "Derek Hale/Stiles Stilinski                             12\n",
      "Wilbur Soot & Technoblade & TommyInnit & Phil Watson     6\n",
      "Midoriya Izuku/Todoroki Shouto                           4\n",
      "Jeon Jungkook/Kim Taehyung | V                           4\n",
      "Wilbur Soot & TommyInnit                                 4\n",
      "Harry Potter/Tom Riddle                                  4\n",
      "Draco Malfoy & Harry Potter                              3\n",
      "Min Yoongi | Suga/Park Jimin                             3\n",
      "Sirius Black/Remus Lupin                                 3\n",
      "dtype: int64\n",
      "M/M            71\n",
      "Gen            23\n",
      "F/M            14\n",
      "Multi           4\n",
      "No category     3\n",
      "F/F             2\n",
      "Other           1\n",
      "dtype: int64\n",
      "No Archive Warnings Apply             62\n",
      "Choose Not To Use Archive Warnings    26\n",
      "Graphic Depictions Of Violence        16\n",
      "Major Character Death                  7\n",
      "Rape/Non-Con                           2\n",
      "Underage                               1\n",
      "dtype: int64\n"
     ]
    }
   ],
   "source": [
    "# The categorical data\n",
    "print(characters_bool.sum().sort_values(ascending=False).head(10))\n",
    "print(fandoms_bool.sum().sort_values(ascending=False).head(10))\n",
    "print(freeforms_bool.sum().sort_values(ascending=False).head(10))\n",
    "print(relationships_bool.sum().sort_values(ascending=False).head(10))\n",
    "print(slash_categories_bool.sum().sort_values(ascending=False).head(10))\n",
    "print(warnings_bool.sum().sort_values(ascending=False).head(10))"
   ]
  },
  {
   "cell_type": "markdown",
   "metadata": {},
   "source": [
    "There is large diversity to the data. If I wanted to look more specifically into a fandom or character, there would be few data points. For more specific research I would need to rescrape data from the website, filtered by that fandom, character, etc.. \n",
    "\n",
    "As the data is now, it is better suited for broader analysis. In the future, I may wish to scrape the top 1000 fanfics."
   ]
  },
  {
   "cell_type": "markdown",
   "metadata": {},
   "source": [
    "### Visualizing Spread, Trends, and Patterns"
   ]
  },
  {
   "cell_type": "code",
   "execution_count": 64,
   "metadata": {},
   "outputs": [
    {
     "data": {
      "image/png": "[encoded data removed]",
      "text/plain": [
       "<Figure size 432x288 with 1 Axes>"
      ]
     },
     "metadata": {
      "needs_background": "light"
     },
     "output_type": "display_data"
    },
    {
     "data": {
      "text/plain": [
       "<Figure size 432x288 with 0 Axes>"
      ]
     },
     "metadata": {},
     "output_type": "display_data"
    }
   ],
   "source": [
    "# Let's take a look at the spread of the kudos\n",
    "plt.hist(top_100_kudos['kudos'], bins=20)\n",
    "plt.show()\n",
    "plt.clf()"
   ]
  },
  {
   "cell_type": "markdown",
   "metadata": {},
   "source": [
    "It appears that only a few fanfics have cracked the 100,000 kudos mark. A few more are over 60k, but the vast majority are under this mark, and the lower the number of kudos, the higher the count of fanfictions. I would expect this data to be increasingly right skewed the more data I collected, given that the intitial data was sorted by kudos, descending."
   ]
  },
  {
   "cell_type": "code",
   "execution_count": 70,
   "metadata": {},
   "outputs": [
    {
     "data": {
      "image/png": "[encoded data removed]",
      "text/plain": [
       "<Figure size 432x288 with 4 Axes>"
      ]
     },
     "metadata": {
      "needs_background": "light"
     },
     "output_type": "display_data"
    },
    {
     "data": {
      "text/plain": [
       "<Figure size 432x288 with 0 Axes>"
      ]
     },
     "metadata": {},
     "output_type": "display_data"
    }
   ],
   "source": [
    "# Let's see if the data continues its trend for hits, comments, words, and bookmarks.\n",
    "plt.subplot(2, 2, 1)\n",
    "plt.hist(top_100_kudos['hits'], bins=20)\n",
    "plt.title('Distribution of Hits')\n",
    "plt.subplot(2, 2, 2)\n",
    "plt.hist(top_100_kudos['comments'], bins=20)\n",
    "plt.title('Distribution of Comments')\n",
    "plt.subplot(2, 2, 3)\n",
    "plt.hist(top_100_kudos['words'], bins=20)\n",
    "plt.title('Distribution of Words')\n",
    "plt.subplot(2, 2, 4)\n",
    "plt.hist(top_100_kudos['bookmarks'], bins=20)\n",
    "plt.title('Distribution of Bookmarks')\n",
    "plt.subplots_adjust(hspace=0.7)\n",
    "plt.show()\n",
    "plt.clf()"
   ]
  },
  {
   "cell_type": "markdown",
   "metadata": {},
   "source": [
    "All of the data is right-skewed. It seems like there is one work that has an extremely high number of hits. It'll be curious to see if the same works have the highest counts for each type of data, or if there is some other pattern to the data and the outliers."
   ]
  },
  {
   "cell_type": "code",
   "execution_count": 80,
   "metadata": {},
   "outputs": [
    {
     "name": "stdout",
     "output_type": "stream",
     "text": [
      "work_id\n",
      "work_10057010    All the Young Dudes\n",
      "Name: title, dtype: object\n",
      "work_id\n",
      "work_10057010    All the Young Dudes\n",
      "Name: title, dtype: object\n"
     ]
    }
   ],
   "source": [
    "# Getting the title of the outlier by hits.\n",
    "print(top_100_kudos[top_100_kudos['hits']>4000000].title)\n",
    "\n",
    "# And the outlier by bookmarks\n",
    "print(top_100_kudos[top_100_kudos['bookmarks']>20000].title)"
   ]
  },
  {
   "cell_type": "markdown",
   "metadata": {},
   "source": [
    "It's the same fic! Let's see if there is a correlation between number of hits and number of bookmarks. A scatterplot is a great tool for this."
   ]
  },
  {
   "cell_type": "code",
   "execution_count": null,
   "metadata": {},
   "outputs": [],
   "source": []
  }
 ],
 "metadata": {
  "kernelspec": {
   "display_name": "Python 3.9.12 ('base')",
   "language": "python",
   "name": "python3"
  },
  "language_info": {
   "codemirror_mode": {
    "name": "ipython",
    "version": 3
   },
   "file_extension": ".py",
   "mimetype": "text/x-python",
   "name": "python",
   "nbconvert_exporter": "python",
   "pygments_lexer": "ipython3",
   "version": "3.9.12"
  },
  "orig_nbformat": 4,
  "vscode": {
   "interpreter": {
    "hash": "40d3a090f54c6569ab1632332b64b2c03c39dcf918b08424e98f38b5ae0af88f"
   }
  }
 },
 "nbformat": 4,
 "nbformat_minor": 2
}
